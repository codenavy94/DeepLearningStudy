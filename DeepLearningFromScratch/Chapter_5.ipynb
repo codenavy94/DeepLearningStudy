{
 "cells": [
  {
   "cell_type": "markdown",
   "metadata": {},
   "source": [
    "## Chapter 5. 오차역전파법(Backward Propagation)"
   ]
  },
  {
   "cell_type": "markdown",
   "metadata": {},
   "source": [
    "### 5.1 계산 그래프\n",
    "\n",
    "- 특징: '국소적 계산'을 전파함으로써 최종 결과를 얻는다\n",
    "- 장점:  \n",
    "1) '국소적 계산'. 전체가 아무리 복잡해도 각 노드에서는 단순한 계산에 집중하여 문제를 단순화할 수 있다.  \n",
    "2) 중간 계산 결과를 모두 보관할 수 있다.  \n",
    "따라서, 실제로 계산 그래프를 사용하는 가장 큰 이유는 역전파를 통해 '미분'을 효율적으로 계산할 수 있기 때문이다."
   ]
  },
  {
   "cell_type": "markdown",
   "metadata": {},
   "source": [
    "#### 5.2.2 연쇄법칙이란?\n",
    "\n",
    "- 합성 함수: 여러 함수로 구성된 함수\n",
    "예를 들어, $ z={(x+y)}^2 $ 라는 식은 아래의 두 식으로 구성된다.\n",
    "\n",
    "$ z = t^2 $  \n",
    "$ t = x + y $\n",
    "\n",
    "연쇄법칙은 '합성 함수의 미분'에 대한 성질이며, 다음과 같이 정의된다.  \n",
    "\"합성 함수의 미분은 합성 함수를 구하는 각 함수의 미분의 곱으로 나타낼 수 있다\"\n",
    "\n",
    "즉, 식으로 나타내자면 다음과 같다.  \n",
    "\n",
    "$ \\frac{\\partial z}{\\partial x} = \\frac{\\partial z}{\\partial t}\\frac{\\partial t}{\\partial x} = 2t \\cdot 1 = 2(x+y) $"
   ]
  },
  {
   "cell_type": "markdown",
   "metadata": {},
   "source": [
    "#### 5.2.3 연쇄법칙과 계산 그래프\n",
    "\n",
    "역전파의 계산 절차에서는 노드로 들어온 입력 신호에 그 노드의 국소적 미분(그 노드의 출력값에 대한 그 노드의 입력값의 편미분)을 곱한 후 다음 노드로 전달한다."
   ]
  },
  {
   "cell_type": "markdown",
   "metadata": {},
   "source": [
    "### 5.4 단순한 계층 구현하기"
   ]
  },
  {
   "cell_type": "code",
   "execution_count": null,
   "metadata": {},
   "outputs": [],
   "source": []
  }
 ],
 "metadata": {
  "interpreter": {
   "hash": "09bd30ec09ff82ffed002cba5118f0fed1a51994ebdc63d978937753590ca854"
  },
  "kernelspec": {
   "display_name": "Python 3.8.6 64-bit",
   "language": "python",
   "name": "python3"
  },
  "language_info": {
   "name": "python",
   "version": "3.8.6"
  },
  "orig_nbformat": 4
 },
 "nbformat": 4,
 "nbformat_minor": 2
}
