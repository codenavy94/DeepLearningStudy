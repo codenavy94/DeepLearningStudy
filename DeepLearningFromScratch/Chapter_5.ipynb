{
 "cells": [
  {
   "cell_type": "markdown",
   "metadata": {},
   "source": [
    "## Chapter 5. 오차역전파법(Backward Propagation)"
   ]
  },
  {
   "cell_type": "markdown",
   "metadata": {},
   "source": [
    "### 5.1 계산 그래프\n",
    "\n",
    "- 특징: '국소적 계산'을 전파함으로써 최종 결과를 얻는다\n",
    "- 장점:  \n",
    "1) '국소적 계산'. 전체가 아무리 복잡해도 각 노드에서는 단순한 계산에 집중하여 문제를 단순화할 수 있다.  \n",
    "2) 중간 계산 결과를 모두 보관할 수 있다.  \n",
    "따라서, 실제로 계산 그래프를 사용하는 가장 큰 이유는 역전파를 통해 '미분'을 효율적으로 계산할 수 있기 때문이다."
   ]
  },
  {
   "cell_type": "code",
   "execution_count": null,
   "metadata": {},
   "outputs": [],
   "source": []
  }
 ],
 "metadata": {
  "interpreter": {
   "hash": "09bd30ec09ff82ffed002cba5118f0fed1a51994ebdc63d978937753590ca854"
  },
  "kernelspec": {
   "display_name": "Python 3.8.6 64-bit",
   "language": "python",
   "name": "python3"
  },
  "language_info": {
   "name": "python",
   "version": "3.8.6"
  },
  "orig_nbformat": 4
 },
 "nbformat": 4,
 "nbformat_minor": 2
}
