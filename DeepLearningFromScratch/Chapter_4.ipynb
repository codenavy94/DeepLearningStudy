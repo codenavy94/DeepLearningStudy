{
 "cells": [
  {
   "cell_type": "markdown",
   "metadata": {},
   "source": [
    "## Chapter 4. 신경망 학습\n",
    "\n",
    "- 학습: 훈련 데이터로부터 가중치 매개변수의 최적값을 자동으로 획득하는 것\n",
    "- 손실 함수에 대해 알아보자!"
   ]
  },
  {
   "cell_type": "markdown",
   "metadata": {},
   "source": [
    "#### Machine Learning과 학습\n",
    "- 기계학습에서는 사람의 개입을 최소화하고 수집한 '데이터'로부터 '패턴'을 찾으려 시도한다.\n",
    "- 따라서, 데이터로부터 '특징(feature)'을 추출하고 그 특징의 패턴을 기계학습 기술로 학습시키게 된다.\n",
    "- BUT! 데이터로부터 규칙을 찾아내는 역할을 '기계'가 담당하더라도, 데이터에 대해 '중요한 특징'이 무엇인지 생각하고, 구성하는 것은 '사람'의 몫이다."
   ]
  },
  {
   "cell_type": "markdown",
   "metadata": {},
   "source": [
    "#### Neural Network와 학습\n",
    "- 신경망은 이미지를 '있는 그대로' 학습하고, 이미지에 포함된 중요한 특징까지도 '기계'가 스스로 학습한다!\n",
    "- 따라서, 딥러닝을 종단간 기계학습(end-to-end machine learning)이라고도 하는데, 이는 처음부터 끝까지, 즉, 데이터(입력)에서 결과(출력)까지 사람의 개입 없이 얻어낸다는 뜻을 가지고 있다."
   ]
  },
  {
   "cell_type": "markdown",
   "metadata": {},
   "source": [
    "### 4.2 손실함수\n",
    "- 손실 함수(loss function): 신경망 학습에서 사용하는 지표\n",
    "- 일반적으로 평균 제곱 오차(MSE)와 교차 엔트로피 오차를 사용한다.\n",
    "- 손실 함수는 신경망 성능의 '나쁨'을 나타내는 지표로, 현재의 신경망이 훈련 데이터를 얼마나 잘 처리하지 '못'하느냐를 나타낸다.\n",
    "- 즉, 손실 함수 값에 마이너스를 곱하면 '얼마나 좋은지'에 대한 지표로 사용할 수 있다."
   ]
  },
  {
   "cell_type": "markdown",
   "metadata": {},
   "source": [
    "#### 4.2.1 평균 제곱 오차(Mean Squared Error, MSE)\n",
    "\n",
    "$ E = {1 \\over 2} \\sum\\limits_k(y_k - t_k)^2 $\n",
    "\n",
    "- $y_k$: 신경망의 출력값(예측값)\n",
    "- $t_k$: 정답 레이블(실제 정답값)\n",
    "- $k$: 데이터의 수(data point 수)"
   ]
  },
  {
   "cell_type": "code",
   "execution_count": 2,
   "metadata": {},
   "outputs": [],
   "source": [
    "import numpy as np"
   ]
  },
  {
   "cell_type": "code",
   "execution_count": 1,
   "metadata": {},
   "outputs": [],
   "source": [
    "def mean_squared_error(y, t):\n",
    "    return 0.5 * np.sum((y-t)**2) # y, t는 넘파이 배열"
   ]
  },
  {
   "cell_type": "code",
   "execution_count": 3,
   "metadata": {},
   "outputs": [
    {
     "name": "stdout",
     "output_type": "stream",
     "text": [
      "0.09750000000000003\n",
      "0.5975\n"
     ]
    }
   ],
   "source": [
    "t = [0, 0, 1, 0, 0, 0, 0, 0, 0, 0] # 정답은 2\n",
    "\n",
    "y = [0.1, 0.05, 0.6, 0.0, 0.05, 0.1, 0.0, 0.1, 0.0, 0.0] # '2'일 확률이 가장 높다고 추정\n",
    "print(mean_squared_error(np.array(y), np.array(t))) # 오차가 더 작은 쪽이 정답에 더 가까움!\n",
    "\n",
    "y2 = [0.1, 0.05, 0.1, 0.0, 0.05, 0.1, 0.0, 0.6, 0.0, 0.0] # '7'일 확률이 가장 높다고 추정\n",
    "print(mean_squared_error(np.array(y2), np.array(t)))"
   ]
  },
  {
   "cell_type": "markdown",
   "metadata": {},
   "source": [
    "#### 4.2.2 교차 엔트로피 오차(Cross Entropy Error, CEE)\n",
    "\n",
    "$ E = - \\sum\\limits_k t_k \\log y_k $\n",
    "\n",
    "- $\\log$: 밑이 $e$인 자연로그($log_e$)\n",
    "- $y_k$: 신경망의 출력값(예측값)\n",
    "- $t_k$: 실제 정답값\n",
    "- 정답에 해당하는 인덱스의 원소만 1이고 나머지는 0 (one-hot encoding)이기 때문에, 정답에 해당하는 인덱스의 신경망 출력값에 대해 교차 엔트로피 오차를 계산한 값이 된다. 즉, 교차 엔트로피 오차는 정답일 때의 출력이 전체 값을 정하게 된다."
   ]
  },
  {
   "cell_type": "code",
   "execution_count": 7,
   "metadata": {},
   "outputs": [
    {
     "name": "stderr",
     "output_type": "stream",
     "text": [
      "C:\\Users\\minji\\AppData\\Local\\Temp/ipykernel_17728/3250564785.py:4: RuntimeWarning: divide by zero encountered in log\n",
      "  y = np.log(x)\n"
     ]
    },
    {
     "data": {
      "image/png": "[encoded data removed]",
      "text/plain": [
       "<Figure size 432x288 with 1 Axes>"
      ]
     },
     "metadata": {
      "needs_background": "light"
     },
     "output_type": "display_data"
    }
   ],
   "source": [
    "import matplotlib.pyplot as plt\n",
    "\n",
    "x = np.arange(0.0, 1.0, 0.001)\n",
    "y = np.log(x)\n",
    "plt.plot(x, y)\n",
    "plt.xlim(0.0, 1.0)\n",
    "plt.ylim(-5, 0)\n",
    "plt.show()"
   ]
  },
  {
   "cell_type": "markdown",
   "metadata": {},
   "source": [
    "- 정답일 때의 출력이(즉, $y_k$) 1일수록 (softmax 함수의 출력값=1) 오차는 작아진다.\n",
    "- 정답일 때의 출력값이 작아질수록(0에 가까워질수록) 오차는 커진다."
   ]
  },
  {
   "cell_type": "code",
   "execution_count": 8,
   "metadata": {},
   "outputs": [],
   "source": [
    "def cross_entropy_error(y, t):\n",
    "    delta = 1e-7\n",
    "    return -np.sum(t * np.log(y + delta)) # y=0이면 log 0은 마이너스 무한대가 되어버리므로, 아주 작은 delta 값을 더해서 0이 되지 않도록 한다."
   ]
  },
  {
   "cell_type": "code",
   "execution_count": 9,
   "metadata": {},
   "outputs": [
    {
     "name": "stdout",
     "output_type": "stream",
     "text": [
      "0.510825457099338\n",
      "2.302584092994546\n"
     ]
    }
   ],
   "source": [
    "t = [0, 0, 1, 0, 0, 0, 0, 0, 0, 0] # 정답은 2\n",
    "\n",
    "y = [0.1, 0.05, 0.6, 0.0, 0.05, 0.1, 0.0, 0.1, 0.0, 0.0] # '2'일 확률이 가장 높다고 추정\n",
    "print(cross_entropy_error(np.array(y), np.array(t))) # 오차가 더 작은 쪽이 정답에 더 가까움!\n",
    "# 정답 인덱스에 대한 출력값 = 0.6\n",
    "# 즉, -2*log0.6\n",
    "\n",
    "y2 = [0.1, 0.05, 0.1, 0.0, 0.05, 0.1, 0.0, 0.6, 0.0, 0.0] # '7'일 확률이 가장 높다고 추정\n",
    "print(cross_entropy_error(np.array(y2), np.array(t)))\n",
    "# 정답 인덱스에 대한 출력값 = 0.1\n",
    "# 즉, -2*log0.1"
   ]
  }
 ],
 "metadata": {
  "interpreter": {
   "hash": "eb98f1078c0bf0908da4d541c97382695dcf7ee9c0c20aad61f626557213d022"
  },
  "kernelspec": {
   "display_name": "Python 3.8.11 ('workspace')",
   "language": "python",
   "name": "python3"
  },
  "language_info": {
   "codemirror_mode": {
    "name": "ipython",
    "version": 3
   },
   "file_extension": ".py",
   "mimetype": "text/x-python",
   "name": "python",
   "nbconvert_exporter": "python",
   "pygments_lexer": "ipython3",
   "version": "3.8.11"
  },
  "orig_nbformat": 4
 },
 "nbformat": 4,
 "nbformat_minor": 2
}
