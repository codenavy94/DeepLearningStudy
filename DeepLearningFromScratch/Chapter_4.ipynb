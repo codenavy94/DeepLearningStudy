{
 "cells": [
  {
   "cell_type": "markdown",
   "metadata": {},
   "source": [
    "## Chapter 4. 신경망 학습\n",
    "\n",
    "- 학습: 훈련 데이터로부터 가중치 매개변수의 최적값을 자동으로 획득하는 것\n",
    "- 손실 함수에 대해 알아보자!"
   ]
  },
  {
   "cell_type": "markdown",
   "metadata": {},
   "source": [
    "#### Machine Learning과 학습\n",
    "- 기계학습에서는 사람의 개입을 최소화하고 수집한 '데이터'로부터 '패턴'을 찾으려 시도한다.\n",
    "- 따라서, 데이터로부터 '특징(feature)'을 추출하고 그 특징의 패턴을 기계학습 기술로 학습시키게 된다.\n",
    "- BUT! 데이터로부터 규칙을 찾아내는 역할을 '기계'가 담당하더라도, 데이터에 대해 '중요한 특징'이 무엇인지 생각하고, 구성하는 것은 '사람'의 몫이다."
   ]
  },
  {
   "cell_type": "markdown",
   "metadata": {},
   "source": [
    "#### Neural Network와 학습\n",
    "- 신경망은 이미지를 '있는 그대로' 학습하고, 이미지에 포함된 중요한 특징까지도 '기계'가 스스로 학습한다!\n",
    "- 따라서, 딥러닝을 종단간 기계학습(end-to-end machine learning)이라고도 하는데, 이는 처음부터 끝까지, 즉, 데이터(입력)에서 결과(출력)까지 사람의 개입 없이 얻어낸다는 뜻을 가지고 있다."
   ]
  },
  {
   "cell_type": "markdown",
   "metadata": {},
   "source": [
    "### 4.2 손실함수\n",
    "- 손실 함수(loss function): 신경망 학습에서 사용하는 지표\n",
    "- 일반적으로 평균 제곱 오차(MSE)와 교차 엔트로피 오차를 사용한다.\n",
    "- 손실 함수는 신경망 성능의 '나쁨'을 나타내는 지표로, 현재의 신경망이 훈련 데이터를 얼마나 잘 처리하지 '못'하느냐를 나타낸다.\n",
    "- 즉, 손실 함수 값에 마이너스를 곱하면 '얼마나 좋은지'에 대한 지표로 사용할 수 있다."
   ]
  },
  {
   "cell_type": "markdown",
   "metadata": {},
   "source": [
    "#### 4.2.1 평균 제곱 오차(Mean Squared Error, MSE)\n",
    "\n",
    "$ E = {1 \\over 2} \\sum\\limits_k(y_k - t_k)^2 $\n",
    "\n",
    "- $y_k$: 신경망의 출력값(예측값)\n",
    "- $t_k$: 정답 레이블(실제 정답값)\n",
    "- $k$: 데이터의 수(data point 수)"
   ]
  },
  {
   "cell_type": "code",
   "execution_count": 1,
   "metadata": {},
   "outputs": [],
   "source": [
    "import numpy as np"
   ]
  },
  {
   "cell_type": "code",
   "execution_count": 2,
   "metadata": {},
   "outputs": [],
   "source": [
    "def mean_squared_error(y, t):\n",
    "    return 0.5 * np.sum((y-t)**2) # y, t는 넘파이 배열"
   ]
  },
  {
   "cell_type": "code",
   "execution_count": 3,
   "metadata": {},
   "outputs": [
    {
     "name": "stdout",
     "output_type": "stream",
     "text": [
      "0.09750000000000003\n",
      "0.5975\n"
     ]
    }
   ],
   "source": [
    "t = [0, 0, 1, 0, 0, 0, 0, 0, 0, 0] # 정답은 2\n",
    "\n",
    "y = [0.1, 0.05, 0.6, 0.0, 0.05, 0.1, 0.0, 0.1, 0.0, 0.0] # '2'일 확률이 가장 높다고 추정\n",
    "print(mean_squared_error(np.array(y), np.array(t))) # 오차가 더 작은 쪽이 정답에 더 가까움!\n",
    "\n",
    "y2 = [0.1, 0.05, 0.1, 0.0, 0.05, 0.1, 0.0, 0.6, 0.0, 0.0] # '7'일 확률이 가장 높다고 추정\n",
    "print(mean_squared_error(np.array(y2), np.array(t)))"
   ]
  },
  {
   "cell_type": "markdown",
   "metadata": {},
   "source": [
    "#### 4.2.2 교차 엔트로피 오차(Cross Entropy Error, CEE)\n",
    "\n",
    "$ E = - \\sum\\limits_k t_k \\log y_k $\n",
    "\n",
    "- $\\log$: 밑이 $e$인 자연로그($log_e$)\n",
    "- $y_k$: 신경망의 출력값(예측값)\n",
    "- $t_k$: 실제 정답값\n",
    "- 정답에 해당하는 인덱스의 원소만 1이고 나머지는 0 (one-hot encoding)이기 때문에, 정답에 해당하는 인덱스의 신경망 출력값에 대해 교차 엔트로피 오차를 계산한 값이 된다. 즉, 교차 엔트로피 오차는 정답일 때의 출력이 전체 값을 정하게 된다."
   ]
  },
  {
   "cell_type": "code",
   "execution_count": 4,
   "metadata": {},
   "outputs": [
    {
     "name": "stderr",
     "output_type": "stream",
     "text": [
      "C:\\Users\\minji\\AppData\\Local\\Temp/ipykernel_29664/3250564785.py:4: RuntimeWarning: divide by zero encountered in log\n",
      "  y = np.log(x)\n"
     ]
    },
    {
     "data": {
      "image/png": "[encoded data removed]",
      "text/plain": [
       "<Figure size 432x288 with 1 Axes>"
      ]
     },
     "metadata": {
      "needs_background": "light"
     },
     "output_type": "display_data"
    }
   ],
   "source": [
    "import matplotlib.pyplot as plt\n",
    "\n",
    "x = np.arange(0.0, 1.0, 0.001)\n",
    "y = np.log(x)\n",
    "plt.plot(x, y)\n",
    "plt.xlim(0.0, 1.0)\n",
    "plt.ylim(-5, 0)\n",
    "plt.show()"
   ]
  },
  {
   "cell_type": "markdown",
   "metadata": {},
   "source": [
    "- 정답일 때의 출력이(즉, $y_k$) 1일수록 (softmax 함수의 출력값=1) 오차는 작아진다.\n",
    "- 정답일 때의 출력값이 작아질수록(0에 가까워질수록) 오차는 커진다."
   ]
  },
  {
   "cell_type": "code",
   "execution_count": 5,
   "metadata": {},
   "outputs": [],
   "source": [
    "def cross_entropy_error(y, t):\n",
    "    delta = 1e-7\n",
    "    return -np.sum(t * np.log(y + delta)) # y=0이면 log 0은 마이너스 무한대가 되어버리므로, 아주 작은 delta 값을 더해서 0이 되지 않도록 한다."
   ]
  },
  {
   "cell_type": "code",
   "execution_count": 6,
   "metadata": {},
   "outputs": [
    {
     "name": "stdout",
     "output_type": "stream",
     "text": [
      "0.510825457099338\n",
      "2.302584092994546\n"
     ]
    }
   ],
   "source": [
    "t = [0, 0, 1, 0, 0, 0, 0, 0, 0, 0] # 정답은 2\n",
    "\n",
    "y = [0.1, 0.05, 0.6, 0.0, 0.05, 0.1, 0.0, 0.1, 0.0, 0.0] # '2'일 확률이 가장 높다고 추정\n",
    "print(cross_entropy_error(np.array(y), np.array(t))) # 오차가 더 작은 쪽이 정답에 더 가까움!\n",
    "# 정답 인덱스에 대한 출력값 = 0.6\n",
    "# 즉, -2*log0.6\n",
    "\n",
    "y2 = [0.1, 0.05, 0.1, 0.0, 0.05, 0.1, 0.0, 0.6, 0.0, 0.0] # '7'일 확률이 가장 높다고 추정\n",
    "print(cross_entropy_error(np.array(y2), np.array(t)))\n",
    "# 정답 인덱스에 대한 출력값 = 0.1\n",
    "# 즉, -2*log0.1"
   ]
  },
  {
   "cell_type": "markdown",
   "metadata": {},
   "source": [
    "#### 4.2.3 미니배치 학습\n",
    "- 지금까지는 데이터 하나에 대한 손실 함수\n",
    "- 훈련 데이터 모두에 대한 손실함수의 합을 구하는 방법은?\n",
    "\n",
    "$ E = - {1 \\over N} \\sum\\limits_n \\sum\\limits_k t_{nk} \\log y_{nk} $\n",
    "\n",
    "- 데이터가 $N$개라면, $t_{nk}$는 $n$번째 데이터의 $k$번째 값을 의미\n",
    "- 데이터의 개수가 너무 많다면 손실함수의 합을 구하는 데 너무 오랜 시간이 걸리기 때문에, 훈련 데이터 일부만을 골라 학습을 수행할 수 있다.\n",
    "- 이 일부 데이터를 미니배치(mini-batch)라고 한다.\n",
    "- 예를 들어, 60,000장의 훈련 데이터 중에서 100장을 무작위로 뽑아 학습시키는 것을 미니배치 학습이라고 한다.\n",
    "- 즉, 전체 훈련 데이터의 대표로서 무작위로 선택한 미니배치를 사용하는 것이다."
   ]
  },
  {
   "cell_type": "code",
   "execution_count": 7,
   "metadata": {},
   "outputs": [
    {
     "name": "stdout",
     "output_type": "stream",
     "text": [
      "(60000, 784)\n",
      "(60000, 10)\n"
     ]
    }
   ],
   "source": [
    "import numpy as np\n",
    "from dataset.mnist import load_mnist\n",
    "\n",
    "(x_train, t_train), (x_test, t_test) = load_mnist(normalize=True, one_hot_label=True)\n",
    "\n",
    "print(x_train.shape)\n",
    "print(t_train.shape)"
   ]
  },
  {
   "cell_type": "code",
   "execution_count": 8,
   "metadata": {},
   "outputs": [],
   "source": [
    "# 훈련 데이터 60,000개에서 무작위로 10장만 빼내기\n",
    "\n",
    "train_size = x_train.shape[0]\n",
    "batch_size = 10\n",
    "batch_mask = np.random.choice(train_size, batch_size) # train_size 미만의 수 중에서 batch_size개 만큼의 수를 무작위로 뽑아내기\n",
    "x_batch = x_train[batch_mask]\n",
    "t_batch = x_train[batch_mask]"
   ]
  },
  {
   "cell_type": "code",
   "execution_count": 9,
   "metadata": {},
   "outputs": [
    {
     "data": {
      "text/plain": [
       "array([44335, 36637,  3048, 46741, 10673, 48403, 28756, 15813, 32115,\n",
       "       43393])"
      ]
     },
     "execution_count": 9,
     "metadata": {},
     "output_type": "execute_result"
    }
   ],
   "source": [
    "np.random.choice(60000, 10)"
   ]
  },
  {
   "cell_type": "markdown",
   "metadata": {},
   "source": [
    "#### 4.2.4 (배치용) 교차 엔트로피 오차 구현하기"
   ]
  },
  {
   "cell_type": "code",
   "execution_count": 10,
   "metadata": {},
   "outputs": [],
   "source": [
    "# 데이터가 하나인 경우와 데이터가 배치로 묶여 입력될 경우 모두를 처리할 수 있도록 구현\n",
    "\n",
    "def cross_entropy_error(y, t):\n",
    "    if y.ndim == 1:\n",
    "        t = t.reshape(1, t.size)\n",
    "        y = y.reshape(1, y.size)\n",
    "        \n",
    "    batch_size = y.shape[0]\n",
    "    return -np.sum(t * np.log(y)) / batch_size"
   ]
  },
  {
   "cell_type": "code",
   "execution_count": 11,
   "metadata": {},
   "outputs": [],
   "source": [
    "# 정답 레이블이 one-hot encoding이 아니라 '2', '7' 등의 숫자 레이블로 주어지는 경우\n",
    "\n",
    "def cross_entropy_error(y, t):\n",
    "    if y.ndim == 1:\n",
    "        t = t.reshape(1, t.size)\n",
    "        y = y.reshape(1, y.size)\n",
    "        \n",
    "    batch_size = y.shape[0]\n",
    "    return -np.sum(np.log(y[np.arange(batch_size), t])) / batch_size\n",
    "\n",
    "# 만약 데이터가 5개 주어졌다고 한다면, MNIST 데이터셋이라고 했을 때 y.size는 (5, 10), t.size는 (5, )\n",
    "# y[np.arange(batch_size), t]에서 np.arange(batch_size)는 [0, 1, 2, 3, 4]가 되므로 이는 인덱스의 역할을 한다\n",
    "# 즉, y에서 0번째 인덱스 데이터의 정답값(예: 7)에 대한 출력값을 가져와라, 1번째 인덱스 데이터의 정답값(예: 2)에 대한 출력값을 가져와라, ... 등\n",
    "# 그런데 np.log(y)에 t를 안 곱해주나...?"
   ]
  },
  {
   "cell_type": "markdown",
   "metadata": {},
   "source": [
    "#### 4.2.5 왜 손실 함수를 설정하는가?\n",
    "- 신경망을 학습할 때 정확도를 지표로 삼아서는 안 된다. 정확도를 지표로 하면 매개변수의 미분이 대부분의 장소에서 0이 되기 때문이다.  \n",
    "(정확도: 전체 100개 데이터 중에서 32개가 맞았다 --> 32%의 정확도)\n",
    "- 정확도는 매개변수의 미소한 변화에는 거의 반응을 보이지 않고, 반응이 있더라도 그 값이 불연속적으로 갑자기 변화한다.  \n",
    "(즉, 정확도를 지표로 삼는다면 weight가 변하더라도 정확도는 그대로 32%에 머물러 있을 수 있다.)\n",
    "- 이는 계단 함수를 활성화 함수로 사용하지 않는 이유와도 일맥상통하는데, 계단 함수를 이용하면 매개변수의 작은 변화가 주는 파장을 계단 함수가 말살하여(계단 함수의 미분은 대부분의 장소에서 0이므로) 손실 함수의 값에는 아무런 변화가 나타나지 않기 때문이다.\n",
    "- 즉, sigmoid 함수와 같은 비선형 함수를 사용하는 이유도, 기울기가 0이 되지 않는 성질 덕분에 신경망이 올바르게(연속적으로) 학습할 수 있기 때문이다."
   ]
  },
  {
   "cell_type": "markdown",
   "metadata": {},
   "source": [
    "### 4.3 수치 미분\n",
    "- 미분은 '특정 순간'의 변화량을 뜻한다.\n",
    "\n",
    "$ {df(x) \\over dx} = \\lim\\limits_{h\\to0} {f(x+h)-f(x) \\over h} $\n",
    "\n",
    "- 결국, $x$의 '작은 변화'가 함수 $f(x)$를 얼마나 변화시키느냐를 의미한다."
   ]
  },
  {
   "cell_type": "code",
   "execution_count": 12,
   "metadata": {},
   "outputs": [],
   "source": [
    "# 나쁜 구현의 예\n",
    "\n",
    "def numerical_diff(f, x):\n",
    "    h = 1e-50\n",
    "    return (f(x+h) - f(x)) / h"
   ]
  },
  {
   "cell_type": "markdown",
   "metadata": {},
   "source": [
    "문제점?\n",
    "- <문제점1> 1e-50 이라는 값이 너무 작아 반올림 오차(rounding error) 문제가 생기게 된다.\n",
    "- <개선1> 미세한 값 h로 $10^{-4}$ 사용해보기\n",
    "- <문제점2> 위에서 구현한 것은 차분이다. 진정한 미분(진정한 접선)과 수치 미분(근사로 구한 접선)의 값은 다르다.\n",
    "- <개선2> 오차를 줄이기 위해, $(x+h)$와 $(x-h)$일 때의 함수 $f$의 차분을 계산하는 방법을 쓰기도 한다. 이를 중심 차분, 혹은 중앙 차분이라고 한다."
   ]
  },
  {
   "cell_type": "code",
   "execution_count": 13,
   "metadata": {},
   "outputs": [],
   "source": [
    "def numerical_diff(f, x):\n",
    "    h = 1e-4 # 0.0001\n",
    "    return (f(x+h) - f(x-h)) / (2*h)"
   ]
  },
  {
   "cell_type": "markdown",
   "metadata": {},
   "source": [
    "다시 한 번 정리\n",
    "- 해석적 미분: 수식을 전개하여 미분하는 것. 오차를 포함하지 않는 '진정한 미분값'을 구하는 방법\n",
    "- 수치 미분(numerical differentiation): 아주 작은 차분으로 미분하는 것. 즉, '근사치'로 계산하는 방법"
   ]
  },
  {
   "cell_type": "code",
   "execution_count": 14,
   "metadata": {},
   "outputs": [],
   "source": [
    "def function_1(x):\n",
    "    return 0.01*x**2 + 0.1*x"
   ]
  },
  {
   "cell_type": "code",
   "execution_count": 15,
   "metadata": {},
   "outputs": [
    {
     "data": {
      "image/png": "[encoded data removed]",
      "text/plain": [
       "<Figure size 432x288 with 1 Axes>"
      ]
     },
     "metadata": {
      "needs_background": "light"
     },
     "output_type": "display_data"
    }
   ],
   "source": [
    "import numpy as np\n",
    "import matplotlib.pyplot as plt\n",
    "\n",
    "x = np.arange(0.0, 20.0, 0.1)\n",
    "y = function_1(x)\n",
    "plt.xlabel('x')\n",
    "plt.ylabel('y')\n",
    "plt.plot(x, y)\n",
    "plt.show()"
   ]
  },
  {
   "cell_type": "code",
   "execution_count": 17,
   "metadata": {},
   "outputs": [
    {
     "name": "stdout",
     "output_type": "stream",
     "text": [
      "0.1999999999990898\n",
      "0.2999999999986347\n"
     ]
    }
   ],
   "source": [
    "print(numerical_diff(function_1, 5)) # x=5에서의 기울기(근사값)\n",
    "print(numerical_diff(function_1, 10)) # x=10에서의 기울기(근사값)"
   ]
  },
  {
   "cell_type": "code",
   "execution_count": 18,
   "metadata": {},
   "outputs": [
    {
     "name": "stdout",
     "output_type": "stream",
     "text": [
      "0.1999999999990898\n"
     ]
    },
    {
     "data": {
      "image/png": "[encoded data removed]",
      "text/plain": [
       "<Figure size 432x288 with 1 Axes>"
      ]
     },
     "metadata": {
      "needs_background": "light"
     },
     "output_type": "display_data"
    }
   ],
   "source": [
    "def tangent_line(f, x):\n",
    "    d = numerical_diff(f, x)\n",
    "    print(d)\n",
    "    y = f(x) - d*x\n",
    "    return lambda t: d*t + y\n",
    "     \n",
    "x = np.arange(0.0, 20.0, 0.1)\n",
    "y = function_1(x)\n",
    "plt.xlabel(\"x\")\n",
    "plt.ylabel(\"f(x)\")\n",
    "\n",
    "tf = tangent_line(function_1, 5)\n",
    "y2 = tf(x)\n",
    "\n",
    "plt.plot(x, y)\n",
    "plt.plot(x, y2)\n",
    "plt.show()"
   ]
  },
  {
   "cell_type": "markdown",
   "metadata": {},
   "source": [
    "#### 4.3.3 편미분\n",
    "\n",
    "$ f(x_0, x_1) = x_0^2 + x_1^2 $\n",
    "\n",
    "- 편미분: 변수가 여럿인 함수에 대한 미분\n",
    "- 편미분을 수식으로는 $ \\frac{\\partial f}{\\partial x_0} $나 $ \\frac{\\partial f}{\\partial x_1} $ 처럼 쓴다.\n",
    "- 여러 변수 중 목표 변수 하나에 초점을 맞추고 다른 변수는 값을 고정한다."
   ]
  },
  {
   "cell_type": "code",
   "execution_count": 19,
   "metadata": {},
   "outputs": [],
   "source": [
    "def function_2(x): # x는 넘파이 배열이라고 가정\n",
    "    return x[0]**2 + x[1]**2 # 또는 return np.sum(x**2)"
   ]
  },
  {
   "cell_type": "code",
   "execution_count": 20,
   "metadata": {},
   "outputs": [
    {
     "data": {
      "text/plain": [
       "6.00000000000378"
      ]
     },
     "execution_count": 20,
     "metadata": {},
     "output_type": "execute_result"
    }
   ],
   "source": [
    "# 문제1: x0 = 3, x1 = 4일 때, x0에 대한 편미분을 구하라.\n",
    "\n",
    "def function_tmp1(x0):\n",
    "    return x0*x0 + 4.0**2.0 # x0에 대한 함수로 만들기\n",
    "\n",
    "numerical_diff(function_tmp1, 3.0)"
   ]
  },
  {
   "cell_type": "code",
   "execution_count": 21,
   "metadata": {},
   "outputs": [
    {
     "data": {
      "text/plain": [
       "7.999999999999119"
      ]
     },
     "execution_count": 21,
     "metadata": {},
     "output_type": "execute_result"
    }
   ],
   "source": [
    "# 문제2: x0 = 3, x1 = 4일 때, x1에 대한 편미분을 구하라.\n",
    "\n",
    "def function_tmp2(x1):\n",
    "    return 3.0**2 + x1*x1 # x1에 대한 함수로 만들기\n",
    "\n",
    "numerical_diff(function_tmp2, 4.0)"
   ]
  },
  {
   "cell_type": "markdown",
   "metadata": {},
   "source": [
    "### 4.4 기울기\n",
    "- 기울기(gradient): $(\\frac{\\partial f}{\\partial x_0} , \\frac{\\partial f}{\\partial x_1})$ 처럼 모든 변수의 편미분을 벡터로 정리한 것"
   ]
  },
  {
   "cell_type": "code",
   "execution_count": 22,
   "metadata": {},
   "outputs": [],
   "source": [
    "def numerical_gradient(f, x):\n",
    "    h = 1e-4\n",
    "    grad = np.zeros_like(x) # 각 x의 편미분 값을 저장할 배열\n",
    "    \n",
    "    for idx in range(x.size):\n",
    "        tmp_val = x[idx]\n",
    "        \n",
    "        # 해당 인덱스의 x에 대해 f(x+h) 계산\n",
    "        x[idx] = tmp_val + h\n",
    "        fxh1 = f(x)\n",
    "        \n",
    "        # 해당 인덱스의 x에 대해 f(x-h) 계산\n",
    "        x[idx] = tmp_val - h\n",
    "        fxh2 = f(x)\n",
    "        \n",
    "        # grad 배열의 해당 index 자리에 계산된 gradient 값 저장\n",
    "        grad[idx] = (fxh1 - fxh2) / 2*h\n",
    "        x[idx] = tmp_val # x값 복원\n",
    "        \n",
    "    return grad\n",
    "        "
   ]
  },
  {
   "cell_type": "code",
   "execution_count": 23,
   "metadata": {},
   "outputs": [
    {
     "name": "stdout",
     "output_type": "stream",
     "text": [
      "[6.e-08 8.e-08]\n",
      "[0.e+00 4.e-08]\n",
      "[6.e-08 0.e+00]\n"
     ]
    }
   ],
   "source": [
    "# input 값 2개를 받는 function_2에 대해서 각 x값에 대해 편미분한 값을 정리한 결과\n",
    "\n",
    "print(numerical_gradient(function_2, np.array([3.0, 4.0])))\n",
    "print(numerical_gradient(function_2, np.array([0.0, 2.0])))\n",
    "print(numerical_gradient(function_2, np.array([3.0, 0.0])))"
   ]
  },
  {
   "cell_type": "code",
   "execution_count": 24,
   "metadata": {},
   "outputs": [
    {
     "data": {
      "image/png": "[encoded data removed]",
      "text/plain": [
       "<Figure size 432x288 with 1 Axes>"
      ]
     },
     "metadata": {
      "needs_background": "light"
     },
     "output_type": "display_data"
    }
   ],
   "source": [
    "# coding: utf-8\n",
    "# cf.http://d.hatena.ne.jp/white_wheels/20100327/p3\n",
    "import numpy as np\n",
    "import matplotlib.pylab as plt\n",
    "from mpl_toolkits.mplot3d import Axes3D\n",
    "\n",
    "\n",
    "def _numerical_gradient_no_batch(f, x):\n",
    "    h = 1e-4  # 0.0001\n",
    "    grad = np.zeros_like(x)\n",
    "    \n",
    "    for idx in range(x.size):\n",
    "        tmp_val = x[idx]\n",
    "        x[idx] = float(tmp_val) + h\n",
    "        fxh1 = f(x)  # f(x+h)\n",
    "        \n",
    "        x[idx] = tmp_val - h \n",
    "        fxh2 = f(x)  # f(x-h)\n",
    "        grad[idx] = (fxh1 - fxh2) / (2*h)\n",
    "        \n",
    "        x[idx] = tmp_val  # 値を元に戻す\n",
    "        \n",
    "    return grad\n",
    "\n",
    "\n",
    "def numerical_gradient(f, X):\n",
    "    if X.ndim == 1:\n",
    "        return _numerical_gradient_no_batch(f, X)\n",
    "    else:\n",
    "        grad = np.zeros_like(X)\n",
    "        \n",
    "        for idx, x in enumerate(X):\n",
    "            grad[idx] = _numerical_gradient_no_batch(f, x)\n",
    "        \n",
    "        return grad\n",
    "\n",
    "\n",
    "def function_2(x):\n",
    "    if x.ndim == 1:\n",
    "        return np.sum(x**2)\n",
    "    else:\n",
    "        return np.sum(x**2, axis=1)\n",
    "\n",
    "\n",
    "def tangent_line(f, x):\n",
    "    d = numerical_gradient(f, x)\n",
    "    print(d)\n",
    "    y = f(x) - d*x\n",
    "    return lambda t: d*t + y\n",
    "\n",
    "\n",
    "if __name__ == '__main__':\n",
    "    x0 = np.arange(-2, 2.5, 0.25)\n",
    "    x1 = np.arange(-2, 2.5, 0.25)\n",
    "    X, Y = np.meshgrid(x0, x1)\n",
    "    \n",
    "    X = X.flatten()\n",
    "    Y = Y.flatten()\n",
    "\n",
    "    grad = numerical_gradient(function_2, np.array([X, Y]).T).T\n",
    "\n",
    "    plt.figure()\n",
    "    plt.quiver(X, Y, -grad[0], -grad[1],  angles=\"xy\",color=\"#666666\")\n",
    "    plt.xlim([-2, 2])\n",
    "    plt.ylim([-2, 2])\n",
    "    plt.xlabel('x0')\n",
    "    plt.ylabel('x1')\n",
    "    plt.grid()\n",
    "    plt.draw()\n",
    "    plt.show()\n"
   ]
  },
  {
   "cell_type": "markdown",
   "metadata": {},
   "source": [
    "- 기울기는 함수의 '가장 낮은 장소(최솟값)'을 가리키는 듯 하다.\n",
    "- '가장 낮은 곳'에서 멀어질수록 화살표의 크기가 커진다.\n",
    "- **기울기가 가리키는 쪽은 각 장소에서 함수의 출력 값을 가장 크게 줄이는 방향이다!!!**"
   ]
  },
  {
   "cell_type": "markdown",
   "metadata": {},
   "source": [
    "#### 4.4.1 경사법(경사 하강법)\n",
    "\n",
    "- 신경망에서는 학습 과정에서 최적의 매개변수(가중치와 편향)을 찾아내야 하는데, 최적값이란 곧 손실 함수가 최솟값이 될 때의 매개변수 값을 뜻한다.\n",
    "- 기울기는 각 지점에서 함수의 값을 낮추는 방안을 제시하는 지표이다.\n",
    "- BUT, 함수가 극솟값, 최솟값, 안장점(saddle point)이 되는 장소에서 기울기는 모두 0이기 때문에, 기울기가 0이라고 하여 그것이 반드시 최솟값이라고 할 수는 없다. 또, 복잡하고 찌그러진 모양의 함수라면 평평한 곳으로 파고들며 고원(plateau), 즉, 학습이 진행되지 않는 정체기에 빠질 수 있다.\n",
    "- 경사법은 현 위치에서 기울어진 방향으로 일정 거리만큼 이동하고, 이를 반복하면서 함수의 값을 점차 줄여나가는 방법을 의미한다.\n",
    "\n",
    "$ x_0 = x_0 - \\eta \\frac{\\partial f}{\\partial x_0}$\n",
    "$ x_1 = x_1 - \\eta \\frac{\\partial f}{\\partial x_1}$\n",
    "\n",
    "$\\eta$: 학습률(learning rate), 갱신하는 양. hyperparameter이다."
   ]
  },
  {
   "cell_type": "code",
   "execution_count": 34,
   "metadata": {},
   "outputs": [],
   "source": [
    "def gradient_descent(f, init_x, lr=0.01, step_num=100):\n",
    "    x = init_x\n",
    "    \n",
    "    for i in range(step_num):\n",
    "        grad = numerical_gradient(f, x) # 기울기 구하는 함수\n",
    "        x -= lr * grad\n",
    "        \n",
    "    return x"
   ]
  },
  {
   "cell_type": "markdown",
   "metadata": {},
   "source": [
    "- f: 최적화하려는 함수\n",
    "- init_x: 초깃값\n",
    "- lr: learning rate\n",
    "- step_num: 경사법에 따른 반복 횟수\n",
    "- numerical_gradient(f, x)를 통해 함수의 기울기를 구하고, 그 기울기에 학습률을 곱한 값으로 갱신하는 처리를 step_num만큼 반복한다.\n",
    "\n",
    "문제: 경사법으로 $ f(x_0, x_1) = x_0^2 + x_1^2 $의 최솟값을 구하라."
   ]
  },
  {
   "cell_type": "code",
   "execution_count": 31,
   "metadata": {},
   "outputs": [
    {
     "data": {
      "text/plain": [
       "array([-6.11110793e-10,  8.14814391e-10])"
      ]
     },
     "execution_count": 31,
     "metadata": {},
     "output_type": "execute_result"
    }
   ],
   "source": [
    "def function_2(x):\n",
    "    return x[0]**2 + x[1]**2\n",
    "\n",
    "init_x = np.array([-3.0, 4.0])\n",
    "gradient_descent(function_2, init_x=init_x, lr=0.1, step_num=100)"
   ]
  },
  {
   "cell_type": "code",
   "execution_count": 28,
   "metadata": {},
   "outputs": [
    {
     "data": {
      "image/png": "[encoded data removed]",
      "text/plain": [
       "<Figure size 432x288 with 1 Axes>"
      ]
     },
     "metadata": {
      "needs_background": "light"
     },
     "output_type": "display_data"
    }
   ],
   "source": [
    "# coding: utf-8\n",
    "\n",
    "# def gradient_descent(f, init_x, lr=0.01, step_num=100):\n",
    "#     x = init_x\n",
    "#     x_history = []\n",
    "\n",
    "#     for i in range(step_num):\n",
    "#         x_history.append( x.copy() )\n",
    "\n",
    "#         grad = numerical_gradient(f, x)\n",
    "#         x -= lr * grad\n",
    "\n",
    "#     return x, np.array(x_history)\n",
    "\n",
    "\n",
    "# def function_2(x):\n",
    "#     return x[0]**2 + x[1]**2\n",
    "\n",
    "# init_x = np.array([-3.0, 4.0])    \n",
    "\n",
    "# lr = 0.1\n",
    "# step_num = 20\n",
    "# x, x_history = gradient_descent(function_2, init_x, lr=lr, step_num=step_num)\n",
    "\n",
    "# plt.plot( [-5, 5], [0,0], '--b')\n",
    "# plt.plot( [0,0], [-5, 5], '--b')\n",
    "# plt.plot(x_history[:,0], x_history[:,1], 'o')\n",
    "\n",
    "# plt.xlim(-3.5, 3.5)\n",
    "# plt.ylim(-4.5, 4.5)\n",
    "# plt.xlabel(\"X0\")\n",
    "# plt.ylabel(\"X1\")\n",
    "# plt.show()"
   ]
  },
  {
   "cell_type": "code",
   "execution_count": 43,
   "metadata": {},
   "outputs": [
    {
     "name": "stdout",
     "output_type": "stream",
     "text": [
      "[-2.58983747e+13 -1.29524862e+12]\n",
      "[-2.99999994  3.99999992]\n"
     ]
    }
   ],
   "source": [
    "# 학습률이 너무 크거나 작은 예\n",
    "\n",
    "# 학습률이 너쿠 크면 발산\n",
    "init_x = np.array([-3.0, 4.0])\n",
    "print(gradient_descent(function_2, init_x=init_x, lr=10.0, step_num=100))\n",
    "\n",
    "# 학습률이 너무 작으면 거의 갱신되지 않음\n",
    "init_x = np.array([-3.0, 4.0])\n",
    "print(gradient_descent(function_2, init_x=init_x, lr=1e-10, step_num=100))"
   ]
  },
  {
   "cell_type": "markdown",
   "metadata": {},
   "source": [
    "#### 4.4.2 신경망에서의 기울기\n",
    "- 신경망 학습에서도 기울기를 구해야 하는데, 여기서의 기울기는 가중치 매개변수에 대한 손실 함수의 기울기를 뜻한다.\n",
    "- size가 2x3, 가중치가 W, 손실함수가 L인 경우의 경사는 $\\frac{\\partial L}{\\partial W}$이다.\n",
    "- W와 $\\frac{\\partial L}{\\partial W}$의 size는 2x3으로 같으며, $\\frac{\\partial L}{\\partial W}$의 각 원소는 각각의 가중치 원소에 관한 편미분이다."
   ]
  },
  {
   "cell_type": "code",
   "execution_count": 44,
   "metadata": {},
   "outputs": [],
   "source": [
    "import numpy as np\n",
    "from common.functions import softmax, cross_entropy_error\n",
    "from common.gradient import numerical_gradient\n",
    "\n",
    "class simpleNet:\n",
    "    def __init__(self):\n",
    "        self.W = np.random.randn(2, 3) # 정규분포로 weight(W) 초기화, input 원소는 2개, output 원소는 3개라고 가정\n",
    "        \n",
    "    def predict(self, x):\n",
    "        return np.dot(x, self.W)\n",
    "    \n",
    "    def loss(self, x, t):\n",
    "        z = self.predict(x)\n",
    "        y = softmax(z)\n",
    "        loss = cross_entropy_error(y, t)\n",
    "        \n",
    "        return loss"
   ]
  },
  {
   "cell_type": "code",
   "execution_count": 45,
   "metadata": {},
   "outputs": [
    {
     "name": "stdout",
     "output_type": "stream",
     "text": [
      "[[ 0.16095087  0.01854184  0.32586343]\n",
      " [ 0.69147417 -0.31155416  2.25060623]]\n"
     ]
    }
   ],
   "source": [
    "net = simpleNet()\n",
    "print(net.W)"
   ]
  },
  {
   "cell_type": "code",
   "execution_count": 46,
   "metadata": {},
   "outputs": [
    {
     "name": "stdout",
     "output_type": "stream",
     "text": [
      "[ 0.71889728 -0.26927364  2.22106367]\n"
     ]
    },
    {
     "data": {
      "text/plain": [
       "2"
      ]
     },
     "execution_count": 46,
     "metadata": {},
     "output_type": "execute_result"
    }
   ],
   "source": [
    "x = np.array([0.6, 0.9])\n",
    "p = net.predict(x)\n",
    "print(p)\n",
    "\n",
    "np.argmax(p) # 최댓값의 인덱스"
   ]
  },
  {
   "cell_type": "code",
   "execution_count": 47,
   "metadata": {},
   "outputs": [
    {
     "data": {
      "text/plain": [
       "0.266608423481221"
      ]
     },
     "execution_count": 47,
     "metadata": {},
     "output_type": "execute_result"
    }
   ],
   "source": [
    "t = np.array([0, 0, 1])\n",
    "net.loss(x, t)"
   ]
  },
  {
   "cell_type": "code",
   "execution_count": 48,
   "metadata": {},
   "outputs": [
    {
     "name": "stdout",
     "output_type": "stream",
     "text": [
      "[[ 0.10232506  0.03809121 -0.14041627]\n",
      " [ 0.15348759  0.05713682 -0.21062441]]\n"
     ]
    }
   ],
   "source": [
    "def f(W):\n",
    "    return net.loss(x, t)\n",
    "\n",
    "dW = numerical_gradient(f, net.W) # W 원소 각각에 대한 편미분 값을 모아놓은 것(=기울기)은?\n",
    "print(dW)"
   ]
  },
  {
   "cell_type": "markdown",
   "metadata": {},
   "source": [
    "- 즉, 위 결과를 통해 $w_{11}$의 값은 0.1 정도이므로 $w_{11}$ 값을 $h$만큼 믈리면 손실 함수의 값은 $0.1h$만큼 증가한다는 의미\n",
    "- $w_{32}$는 값을 $h$만큼 믈리면 손실 함수의 값은 $0.2h$만큼 감소한다는 의미\n",
    "- 따라서, 최솟값인 지점을 찾기 위해 $w_{11}$은 음의 방향으로 갱신하고, $w_{32}$는 양의 방향으로 갱신해야 함을 알 수 있음.\n",
    "- 한 번에 갱신되는 양에는 $w_{11}$보다 $w_{32}$가 크게 기여한다는 사실을 알 수 있음."
   ]
  },
  {
   "cell_type": "code",
   "execution_count": 49,
   "metadata": {},
   "outputs": [
    {
     "name": "stdout",
     "output_type": "stream",
     "text": [
      "[[ 0.10232506  0.03809121 -0.14041627]\n",
      " [ 0.15348759  0.05713682 -0.21062441]]\n"
     ]
    }
   ],
   "source": [
    "f = lambda w: net.loss(x, t) # 람다 함수 사용해서 손실함수의 값 나타내기\n",
    "dW = numerical_gradient(f, net.W)\n",
    "print(dW)"
   ]
  },
  {
   "cell_type": "markdown",
   "metadata": {},
   "source": [
    "- 신경망의 기울기를 구한 다음에는, 경사법에 따라 가중치 매개변수를 갱신하면 됨!"
   ]
  },
  {
   "cell_type": "markdown",
   "metadata": {},
   "source": [
    "### 4.5 학습 알고리즘 구현하기"
   ]
  }
 ],
 "metadata": {
  "interpreter": {
   "hash": "eb98f1078c0bf0908da4d541c97382695dcf7ee9c0c20aad61f626557213d022"
  },
  "kernelspec": {
   "display_name": "Python 3.8.11 ('workspace')",
   "language": "python",
   "name": "python3"
  },
  "language_info": {
   "codemirror_mode": {
    "name": "ipython",
    "version": 3
   },
   "file_extension": ".py",
   "mimetype": "text/x-python",
   "name": "python",
   "nbconvert_exporter": "python",
   "pygments_lexer": "ipython3",
   "version": "3.8.11"
  },
  "orig_nbformat": 4
 },
 "nbformat": 4,
 "nbformat_minor": 2
}
