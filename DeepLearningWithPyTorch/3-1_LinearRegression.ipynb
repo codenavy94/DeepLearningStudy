{
 "cells": [
  {
   "cell_type": "code",
   "execution_count": 1,
   "metadata": {},
   "outputs": [],
   "source": [
    "import torch"
   ]
  },
  {
   "cell_type": "code",
   "execution_count": 2,
   "metadata": {},
   "outputs": [],
   "source": [
    "x_train = torch.FloatTensor([[1],\n",
    "                             [2],\n",
    "                             [3]])\n",
    "y_train = torch.FloatTensor([[2],\n",
    "                             [4],\n",
    "                             [6]])"
   ]
  },
  {
   "cell_type": "markdown",
   "metadata": {},
   "source": [
    "- 선형회귀: 학습 데이터와 가장 잘 맞는 하나의 직선을 찾는 일\n",
    "- 선형회귀의 가설(직선의 방정식)\n",
    "\n",
    "$ y = Wx + b $  \n",
    "$ H(x) = Wx + b $\n",
    "\n",
    "- $W$: 가중치(weight)\n",
    "- $b$: 편향(bias)"
   ]
  },
  {
   "cell_type": "markdown",
   "metadata": {},
   "source": [
    "### 3. 비용 함수(Cost function)에 대한 이해\n",
    "\n",
    "- 비용 함수(cost function) = 손실 함수(loss function) = 오차 함수(error function) = 목적 함수(objective function)\n",
    "\n",
    "- 평균제곱오차(Mean Sqared Error)\n",
    "\n",
    "$ cost(W, b) = \\frac{1}{n} \\sum\\limits_{i=1}^n [y^i - H(x^i)]^2 $\n",
    "\n",
    "- 평균제곱오차(즉, 비용함수)의 값을 \"최소값\"으로 만드는 $W$와 $b$를 찾아내는 것이 학습의 목적!"
   ]
  },
  {
   "cell_type": "markdown",
   "metadata": {},
   "source": [
    "### 4. 옵티마이저 - 경사 하강법(Gradient Descent)\n",
    "\n",
    "- 옵티마이저(optimizer) 알고리즘 = 최적화 알고리즘\n",
    "- 옵티마이저 알고리즘을 통해 적절한 $W$와 $b$를 찾아내는 과정을 머신러닝에서 학습(training)이라고 부른다.\n",
    "- 가장 기본적인 옵티마이저 알고리즘: Gradient Descent\n",
    "\n",
    "#### Gradient Descent\n",
    "- cost가 최소화되는 지점은 접선의 기울기가 0이 되는 지점, 즉, 미분값이 0이 되는 지점\n",
    "- 경사하강법의 아이디어: 비용함수를 미분하여 현재 W에서의 접선의 기울기를 구하고, 접선의 기울기가 낮은 방향으로 W의 값을 변경하는 작업을 반복하는 것!\n",
    "\n",
    "- 기울기 = $ \\frac{d cost(W)}{d W} $\n",
    "\n",
    "- 새로운 기울기 = $ W - \\alpha \\cdot \\frac{d cost(W)}{d W} $\n",
    "\n",
    "**기울기가 음수일 때**\n",
    "\n",
    "$ W - \\alpha \\cdot$(음수기울기) $= W + \\alpha \\cdot$(양수기울기)  \n",
    "(즉, W의 값이 증가하게 된다)\n",
    "\n",
    "**기울기가 양수일 때**\n",
    "\n",
    "$ W - \\alpha \\cdot$(양수기울기) $  \n",
    "(즉, W의 값이 감소하게 된다)\n",
    "\n",
    "- $\\alpha$(learning rate): W의 값을 얼마나 크게 변경할지 그 폭을 결정하는 값.  \n",
    "지나치게 크면 발산, 작으면 수렴하지 못하는 문제가 발생할 수 있다."
   ]
  },
  {
   "cell_type": "markdown",
   "metadata": {},
   "source": [
    "### 5. PyTorch로 선형회귀 구현하기"
   ]
  },
  {
   "cell_type": "code",
   "execution_count": null,
   "metadata": {},
   "outputs": [],
   "source": []
  }
 ],
 "metadata": {
  "interpreter": {
   "hash": "eb98f1078c0bf0908da4d541c97382695dcf7ee9c0c20aad61f626557213d022"
  },
  "kernelspec": {
   "display_name": "Python 3.8.11 ('workspace')",
   "language": "python",
   "name": "python3"
  },
  "language_info": {
   "codemirror_mode": {
    "name": "ipython",
    "version": 3
   },
   "file_extension": ".py",
   "mimetype": "text/x-python",
   "name": "python",
   "nbconvert_exporter": "python",
   "pygments_lexer": "ipython3",
   "version": "3.8.11"
  },
  "orig_nbformat": 4
 },
 "nbformat": 4,
 "nbformat_minor": 2
}
