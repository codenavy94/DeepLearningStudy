{
 "cells": [
  {
   "cell_type": "markdown",
   "metadata": {},
   "source": [
    "## 03. 다중선형회귀(Multivariable Linear Regression)\n",
    "\n",
    "- 단순선형회귀(Simple Linear Regression): $x$가 1개인 선형회귀\n",
    "- 다중선형회귀(Multivariable Linear Regression): 다수의 $x$로부터 $y$를 예측하는 선형회귀\n",
    "\n",
    "$ H(x) = w_1x_1 + w_2x_2 + w_3x_3 + b $\n",
    "\n",
    "(예) Quiz 세 번의 성적으로부터 기말 성적을 예측하는 모델을 만들고자 할 때"
   ]
  },
  {
   "cell_type": "code",
   "execution_count": 1,
   "metadata": {},
   "outputs": [],
   "source": [
    "import torch\n",
    "import torch.nn as nn\n",
    "import torch.nn.functional as F\n",
    "import torch.optim as optim"
   ]
  },
  {
   "cell_type": "code",
   "execution_count": 2,
   "metadata": {},
   "outputs": [
    {
     "data": {
      "text/plain": [
       "<torch._C.Generator at 0x268275b9b70>"
      ]
     },
     "execution_count": 2,
     "metadata": {},
     "output_type": "execute_result"
    }
   ],
   "source": [
    "torch.manual_seed(1)"
   ]
  },
  {
   "cell_type": "code",
   "execution_count": 5,
   "metadata": {},
   "outputs": [],
   "source": [
    "# 훈련 데이터 선언\n",
    "x1_train = torch.FloatTensor([[73],\n",
    "                              [93],\n",
    "                              [89],\n",
    "                              [96],\n",
    "                              [73]])\n",
    "x2_train = torch.FloatTensor([[80],\n",
    "                              [88],\n",
    "                              [91],\n",
    "                              [98],\n",
    "                              [66]])\n",
    "x3_train = torch.FloatTensor([[75],\n",
    "                              [93],\n",
    "                              [90],\n",
    "                              [100],\n",
    "                              [70]])\n",
    "y_train = torch.FloatTensor([[152],\n",
    "                             [185],\n",
    "                             [180],\n",
    "                             [196],\n",
    "                             [142]])"
   ]
  },
  {
   "cell_type": "code",
   "execution_count": 6,
   "metadata": {},
   "outputs": [],
   "source": [
    "# 가중치 w와 편향 b 초기화\n",
    "w1 = torch.zeros(1, requires_grad=True)\n",
    "w2 = torch.zeros(1, requires_grad=True)\n",
    "w3 = torch.zeros(1, requires_grad=True)\n",
    "b = torch.zeros(1, requires_grad=True)"
   ]
  },
  {
   "cell_type": "code",
   "execution_count": 8,
   "metadata": {},
   "outputs": [
    {
     "name": "stdout",
     "output_type": "stream",
     "text": [
      "Epoch    0/1000 w1: 0.718 w2: 0.613 w3: 0.680 b: 0.009 Cost: 1.079378\n",
      "Epoch  100/1000 w1: 0.722 w2: 0.608 w3: 0.680 b: 0.009 Cost: 1.038584\n",
      "Epoch  200/1000 w1: 0.727 w2: 0.603 w3: 0.681 b: 0.010 Cost: 0.999894\n",
      "Epoch  300/1000 w1: 0.731 w2: 0.599 w3: 0.681 b: 0.010 Cost: 0.963217\n",
      "Epoch  400/1000 w1: 0.735 w2: 0.595 w3: 0.681 b: 0.010 Cost: 0.928421\n",
      "Epoch  500/1000 w1: 0.739 w2: 0.591 w3: 0.681 b: 0.010 Cost: 0.895453\n",
      "Epoch  600/1000 w1: 0.743 w2: 0.586 w3: 0.682 b: 0.010 Cost: 0.864161\n",
      "Epoch  700/1000 w1: 0.746 w2: 0.583 w3: 0.682 b: 0.010 Cost: 0.834503\n",
      "Epoch  800/1000 w1: 0.750 w2: 0.579 w3: 0.682 b: 0.010 Cost: 0.806375\n",
      "Epoch  900/1000 w1: 0.754 w2: 0.575 w3: 0.682 b: 0.010 Cost: 0.779696\n"
     ]
    }
   ],
   "source": [
    "# optimizer 설정\n",
    "optimizer = optim.SGD([w1, w2, w3, b], lr=1e-5)\n",
    "\n",
    "nb_epochs = 1000\n",
    "for epoch in range(nb_epochs):\n",
    "    \n",
    "    # H(x) 계산 = forward()\n",
    "    hypothesis = x1_train * w1 + x2_train * w2 + x3_train * w3 + b # 여기서는 일일이 x와 대응하는 w를 곱하도록 적어주었음 --> 개선예정!\n",
    "    \n",
    "    # cost 계산\n",
    "    cost = torch.mean((hypothesis - y_train)**2)\n",
    "    \n",
    "    # cost로 H(x) 개선\n",
    "    optimizer.zero_grad() # 미분값이 누적되지 않도록 초기화해주고\n",
    "    cost.backward() # 비용함수가 최솟값이 되는 지점의 parameter를 찾아야 하므로 비용함수에 대해 기울기 계산\n",
    "    optimizer.step() # parameter 업데이트\n",
    "    \n",
    "    # 100번마다 로그 출력\n",
    "    if epoch % 100 == 0:\n",
    "        print('Epoch {:4d}/{} w1: {:.3f} w2: {:.3f} w3: {:.3f} b: {:.3f} Cost: {:.6f}'.format(\n",
    "            epoch, nb_epochs, w1.item(), w2.item(), w3.item(), b.item(), cost.item()\n",
    "        ))"
   ]
  },
  {
   "cell_type": "markdown",
   "metadata": {},
   "source": [
    "### 3. 벡터와 행렬 연산으로 바꾸기\n",
    "\n",
    "- 기존에는 x값과 w값이 각각 3개여서 하나하나씩 정의해주고, 또 곱셈을 실행할 수 있었지만... input값과 가중치의 개수가 엄청나게 많다면?!\n",
    "- 이를 해결하기 위해 행렬 곱셈 연산(또는 벡터의 내적)을 사용한다.\n",
    "- 행렬의 곱셈 과정에서 이루어지는 벡터 연산(행x열)을 벡터의 내적(dot product)이라고 한다.\n",
    "\n",
    "#### 행렬/벡터 연산으로 이해하기\n",
    "\n",
    "$ H(X) = w_1x_1 + w_2x_2 + w_3x_3 $\n",
    "\n",
    "위 식은 $(x_1 x_2 x_3) \\cdot (w_1 w_2 w_3).T$ 처럼 벡터 간의 내적으로 표현할 수 있다.\n",
    "두 벡터를 각각 $X$와 $W$로 표현한다면, 가설은 다음과 같다.\n",
    "\n",
    "$ H(X) = XW $\n",
    "\n",
    "즉, x와 w의 원소의 개수에 상관없이 두 개의 변수만으로 표현 가능!\n",
    "\n",
    "$X$의 행렬 사이즈가 (5 x 3) (sample의 개수는 5개, feature는 3개)라고 한다면,  \n",
    "$W$의 벡터 사이즈는 (3 x 1)이고,  \n",
    "$XW$의 결과가 (5 x 1)이 되므로 편향 벡터 $B$의 사이즈 또한 (5 x 1)이 된다.\n",
    "\n",
    "$ H(X) = XW + B$"
   ]
  },
  {
   "cell_type": "markdown",
   "metadata": {},
   "source": [
    "### 4. 행렬 연산을 고려하여 파이토치로 구현하기"
   ]
  }
 ],
 "metadata": {
  "interpreter": {
   "hash": "793d4bdf4aa091947cd8281459d6e8fe833d5ec676b0ac200c31417438349ef7"
  },
  "kernelspec": {
   "display_name": "Python 3.8.11 ('condaenv')",
   "language": "python",
   "name": "python3"
  },
  "language_info": {
   "codemirror_mode": {
    "name": "ipython",
    "version": 3
   },
   "file_extension": ".py",
   "mimetype": "text/x-python",
   "name": "python",
   "nbconvert_exporter": "python",
   "pygments_lexer": "ipython3",
   "version": "3.8.11"
  },
  "orig_nbformat": 4
 },
 "nbformat": 4,
 "nbformat_minor": 2
}
